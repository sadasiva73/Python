{
 "cells": [
  {
   "cell_type": "code",
   "execution_count": null,
   "metadata": {},
   "outputs": [],
   "source": [
    "##Dictionary.py\n",
    "Dictionary is collection of  keys and values.we can perform mutable operations on dictionary."
   ]
  },
  {
   "cell_type": "code",
   "execution_count": 2,
   "metadata": {},
   "outputs": [
    {
     "name": "stdout",
     "output_type": "stream",
     "text": [
      "{'name': 'siva', 'age': '27', 'company': 'HCL'}\n"
     ]
    }
   ],
   "source": [
    "##Print dictionary values.\n",
    "courses = { 'name': 'siva','age' :'27','company' : 'HCL'}\n",
    "print(courses)"
   ]
  },
  {
   "cell_type": "code",
   "execution_count": 37,
   "metadata": {},
   "outputs": [
    {
     "name": "stdout",
     "output_type": "stream",
     "text": [
      "{'name': 'siva', 'age': '27', 'company': 'HCL', 'salary': '30k', 'expenses': '25k'}\n",
      "27\n",
      "{'name': 'siva', 'age': '27', 'salary': '30k', 'expenses': '25k'}\n",
      "30k\n",
      "name\n",
      "age\n",
      "expenses\n"
     ]
    }
   ],
   "source": [
    "##perform Opertaions on dictionary\n",
    "courses = { 'name': 'siva','age' :'27','company' : 'HCL'}\n",
    "courses.update({'salary': '30k','expenses':'25k'})   #if you want to update dictionary we can use update().\n",
    "print(courses)\n",
    "print(courses.get('age'))  #key gives it value by using get mwthod\n",
    "del courses['company']\n",
    "print(courses)\n",
    "expenses = courses.pop('salary')\n",
    "print(expenses)\n",
    "for keys in courses:\n",
    "    print(keys)\n"
   ]
  }
 ],
 "metadata": {
  "kernelspec": {
   "display_name": "Python 3",
   "language": "python",
   "name": "python3"
  },
  "language_info": {
   "codemirror_mode": {
    "name": "ipython",
    "version": 3
   },
   "file_extension": ".py",
   "mimetype": "text/x-python",
   "name": "python",
   "nbconvert_exporter": "python",
   "pygments_lexer": "ipython3",
   "version": "3.7.4"
  }
 },
 "nbformat": 4,
 "nbformat_minor": 2
}
