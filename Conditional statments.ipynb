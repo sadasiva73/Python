{
 "cells": [
  {
   "cell_type": "code",
   "execution_count": 15,
   "metadata": {},
   "outputs": [
    {
     "name": "stdout",
     "output_type": "stream",
     "text": [
      " y is greater than x\n",
      "1727771785296\n",
      "1727771785520\n"
     ]
    }
   ],
   "source": [
    "## conditional statments if ,elif, else.\n",
    "## Pyhon does not have switch case statment like other programing languages.\n",
    "## elif perform multiple evaluations like switch case.\n",
    "x = 1220\n",
    "y =  3450\n",
    "if x == y:\n",
    "    print('x is Greater than y')\n",
    "elif x < y:\n",
    "    print(' y is greater than x')\n",
    "elif  x > y:\n",
    "    print('x is greater than y')\n",
    "elif  x <= y:\n",
    "    print('y is greater than are equl to x')\n",
    "else:\n",
    "    print('y is less than x')\n",
    "print(id(x))\n",
    "print(id(y))"
   ]
  },
  {
   "cell_type": "code",
   "execution_count": 18,
   "metadata": {},
   "outputs": [
    {
     "name": "stdout",
     "output_type": "stream",
     "text": [
      "login is false\n"
     ]
    }
   ],
   "source": [
    "course = 'python'\n",
    "login = 'false'\n",
    "if course == 'python'  and login == 'true':\n",
    "    print('course is python')\n",
    "else:\n",
    "    print('login is false')"
   ]
  },
  {
   "cell_type": "code",
   "execution_count": 22,
   "metadata": {},
   "outputs": [
    {
     "name": "stdout",
     "output_type": "stream",
     "text": [
      "login is true\n"
     ]
    }
   ],
   "source": [
    "login = \"\"\n",
    "if not login:\n",
    "    \n",
    "    print('login is true')\n",
    "else:\n",
    "    print('login is false')"
   ]
  },
  {
   "cell_type": "code",
   "execution_count": 25,
   "metadata": {},
   "outputs": [
    {
     "name": "stdout",
     "output_type": "stream",
     "text": [
      "a values\n"
     ]
    }
   ],
   "source": [
    "a = [1,2,3,4]\n",
    "b = a\n",
    "if a is b:\n",
    "    print('a values')\n",
    "else:\n",
    "    print('b values')"
   ]
  },
  {
   "cell_type": "code",
   "execution_count": 19,
   "metadata": {},
   "outputs": [
    {
     "name": "stdout",
     "output_type": "stream",
     "text": [
      "course is python\n"
     ]
    }
   ],
   "source": [
    "course = 'python'\n",
    "login = 'false'\n",
    "if course == 'python'  or login == 'true':\n",
    "    print('course is python')\n",
    "else:\n",
    "    print('login is false')"
   ]
  }
 ],
 "metadata": {
  "kernelspec": {
   "display_name": "Python 3",
   "language": "python",
   "name": "python3"
  },
  "language_info": {
   "codemirror_mode": {
    "name": "ipython",
    "version": 3
   },
   "file_extension": ".py",
   "mimetype": "text/x-python",
   "name": "python",
   "nbconvert_exporter": "python",
   "pygments_lexer": "ipython3",
   "version": "3.6.5"
  }
 },
 "nbformat": 4,
 "nbformat_minor": 2
}
