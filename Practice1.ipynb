{
  "nbformat": 4,
  "nbformat_minor": 0,
  "metadata": {
    "kernelspec": {
      "display_name": "Python 3",
      "language": "python",
      "name": "python3"
    },
    "language_info": {
      "codemirror_mode": {
        "name": "ipython",
        "version": 3
      },
      "file_extension": ".py",
      "mimetype": "text/x-python",
      "name": "python",
      "nbconvert_exporter": "python",
      "pygments_lexer": "ipython3",
      "version": "3.6.5"
    },
    "colab": {
      "name": "Practice1.ipynb",
      "provenance": [],
      "include_colab_link": true
    }
  },
  "cells": [
    {
      "cell_type": "markdown",
      "metadata": {
        "id": "view-in-github",
        "colab_type": "text"
      },
      "source": [
        "<a href=\"https://colab.research.google.com/github/sadasiva73/Python/blob/master/Practice1.ipynb\" target=\"_parent\"><img src=\"https://colab.research.google.com/assets/colab-badge.svg\" alt=\"Open In Colab\"/></a>"
      ]
    },
    {
      "cell_type": "code",
      "metadata": {
        "id": "kLvZM369h4AR",
        "colab_type": "code",
        "colab": {
          "base_uri": "https://localhost:8080/",
          "height": 34
        },
        "outputId": "546e5d31-3914-4297-bb5d-2b16d839cd7d"
      },
      "source": [
        "print(\"Kunal\")"
      ],
      "execution_count": 1,
      "outputs": [
        {
          "output_type": "stream",
          "text": [
            "Kunal\n"
          ],
          "name": "stdout"
        }
      ]
    },
    {
      "cell_type": "code",
      "metadata": {
        "id": "ns96zS3hh4BZ",
        "colab_type": "code",
        "colab": {
          "base_uri": "https://localhost:8080/",
          "height": 255
        },
        "outputId": "1aa3cd80-2db3-4782-f8a3-0fb8961002c2"
      },
      "source": [
        "list = ['maths','history','physics','engish']\n",
        "list2 = [12,43,45,34,23]\n",
        "print(list2)\n",
        "print(list)\n",
        "print(len(list2))\n",
        "print(list[0:2])\n",
        "print(min(list2))\n",
        "print(max(list2))\n",
        "print(sum(list2))\n",
        "list.append('roboo')\n",
        "print(list)\n",
        "list.insert(0,'Machine')\n",
        "print(list)\n",
        "list.extend(list2)\n",
        "print(list)\n",
        "list.remove('Machine')\n",
        "print(list)\n",
        "list.pop()\n",
        "print(list)\n",
        "list.pop()\n",
        "print(list)\n",
        "tuple = (12,43,54,65)\n",
        "print(tuple)\n",
        "      \n",
        "      \n",
        "      "
      ],
      "execution_count": 3,
      "outputs": [
        {
          "output_type": "stream",
          "text": [
            "[12, 43, 45, 34, 23]\n",
            "['maths', 'history', 'physics', 'engish']\n",
            "5\n",
            "['maths', 'history']\n",
            "12\n",
            "45\n",
            "157\n",
            "['maths', 'history', 'physics', 'engish', 'roboo']\n",
            "['Machine', 'maths', 'history', 'physics', 'engish', 'roboo']\n",
            "['Machine', 'maths', 'history', 'physics', 'engish', 'roboo', 12, 43, 45, 34, 23]\n",
            "['maths', 'history', 'physics', 'engish', 'roboo', 12, 43, 45, 34, 23]\n",
            "['maths', 'history', 'physics', 'engish', 'roboo', 12, 43, 45, 34]\n",
            "['maths', 'history', 'physics', 'engish', 'roboo', 12, 43, 45]\n",
            "(12, 43, 54, 65)\n"
          ],
          "name": "stdout"
        }
      ]
    },
    {
      "cell_type": "code",
      "metadata": {
        "id": "Z3G_ugFXh4CJ",
        "colab_type": "code",
        "colab": {
          "base_uri": "https://localhost:8080/",
          "height": 34
        },
        "outputId": "37eee78d-4192-4bb7-fbc3-03a405cd96c9"
      },
      "source": [
        "tuple = (12,34,56,78)\n",
        "print(tuple)"
      ],
      "execution_count": 4,
      "outputs": [
        {
          "output_type": "stream",
          "text": [
            "(12, 34, 56, 78)\n"
          ],
          "name": "stdout"
        }
      ]
    },
    {
      "cell_type": "code",
      "metadata": {
        "id": "ymtBwg7mh4C3",
        "colab_type": "code",
        "colab": {
          "base_uri": "https://localhost:8080/",
          "height": 51
        },
        "outputId": "273d7d7e-e2e2-41ee-cc27-a120ef80d90e"
      },
      "source": [
        "set = {12,34,56,78}\n",
        "set2 = {23,56,43,78,766}\n",
        "print(set2)\n",
        "print(set)"
      ],
      "execution_count": 6,
      "outputs": [
        {
          "output_type": "stream",
          "text": [
            "{43, 78, 23, 56, 766}\n",
            "{56, 34, 12, 78}\n"
          ],
          "name": "stdout"
        }
      ]
    },
    {
      "cell_type": "code",
      "metadata": {
        "id": "Kql6dFC-h4Dj",
        "colab_type": "code",
        "colab": {
          "base_uri": "https://localhost:8080/",
          "height": 34
        },
        "outputId": "f43f01b8-d390-4bad-fac5-ec26c58a8518"
      },
      "source": [
        "Message = 'Hi sadasiva'\n",
        "Message1 = 'sada siva'\n",
        "Message2 = Message + ', '+Message1\n",
        "Message2 = '{},{}. Welcome!'.format(Message,Message1)\n",
        "Mess2 = f'{Message.upper()},{Message1.lower()}.Welcome!'\n",
        "print(Mess2)\n"
      ],
      "execution_count": 7,
      "outputs": [
        {
          "output_type": "stream",
          "text": [
            "HI SADASIVA,sada siva.Welcome!\n"
          ],
          "name": "stdout"
        }
      ]
    },
    {
      "cell_type": "code",
      "metadata": {
        "id": "PAMkDVrMh4EO",
        "colab_type": "code",
        "colab": {
          "base_uri": "https://localhost:8080/",
          "height": 34
        },
        "outputId": "a866ea7e-f96d-4f4a-8abd-d5dbcf499c9c"
      },
      "source": [
        "i = -10\n",
        "j =  23.87\n",
        "print(i,j)\n"
      ],
      "execution_count": 9,
      "outputs": [
        {
          "output_type": "stream",
          "text": [
            "-10 23.87\n"
          ],
          "name": "stdout"
        }
      ]
    },
    {
      "cell_type": "code",
      "metadata": {
        "id": "z8woX89rh4E2",
        "colab_type": "code",
        "colab": {
          "base_uri": "https://localhost:8080/",
          "height": 51
        },
        "outputId": "4d456296-d13f-4d59-fdba-3d94740dbafb"
      },
      "source": [
        "mylist = ['maths','physics','computers','social']\n",
        "print(mylist)\n",
        "list1 = []\n",
        "list1.extend(mylist)\n",
        "print(list1)"
      ],
      "execution_count": 12,
      "outputs": [
        {
          "output_type": "stream",
          "text": [
            "['maths', 'physics', 'computers', 'social']\n",
            "['maths', 'physics', 'computers', 'social']\n"
          ],
          "name": "stdout"
        }
      ]
    },
    {
      "cell_type": "code",
      "metadata": {
        "id": "K_FU4EYXh4Fi",
        "colab_type": "code",
        "colab": {},
        "outputId": "a3f87db6-114d-4255-ed13-e34397e99014"
      },
      "source": [
        "list = ['hcl','capgimi','cognizat','infosys']\n",
        "list1 = ['accenture','tech mahindra']\n",
        "list.remove()\n",
        "print(list)"
      ],
      "execution_count": 0,
      "outputs": [
        {
          "output_type": "error",
          "ename": "TypeError",
          "evalue": "remove() takes exactly one argument (0 given)",
          "traceback": [
            "\u001b[1;31m---------------------------------------------------------------------------\u001b[0m",
            "\u001b[1;31mTypeError\u001b[0m                                 Traceback (most recent call last)",
            "\u001b[1;32m<ipython-input-71-80468d96b1a6>\u001b[0m in \u001b[0;36m<module>\u001b[1;34m()\u001b[0m\n\u001b[0;32m      1\u001b[0m \u001b[0mlist\u001b[0m \u001b[1;33m=\u001b[0m \u001b[1;33m[\u001b[0m\u001b[1;34m'hcl'\u001b[0m\u001b[1;33m,\u001b[0m\u001b[1;34m'capgimi'\u001b[0m\u001b[1;33m,\u001b[0m\u001b[1;34m'cognizat'\u001b[0m\u001b[1;33m,\u001b[0m\u001b[1;34m'infosys'\u001b[0m\u001b[1;33m]\u001b[0m\u001b[1;33m\u001b[0m\u001b[0m\n\u001b[0;32m      2\u001b[0m \u001b[0mlist1\u001b[0m \u001b[1;33m=\u001b[0m \u001b[1;33m[\u001b[0m\u001b[1;34m'accenture'\u001b[0m\u001b[1;33m,\u001b[0m\u001b[1;34m'tech mahindra'\u001b[0m\u001b[1;33m]\u001b[0m\u001b[1;33m\u001b[0m\u001b[0m\n\u001b[1;32m----> 3\u001b[1;33m \u001b[0mlist\u001b[0m\u001b[1;33m.\u001b[0m\u001b[0mremove\u001b[0m\u001b[1;33m(\u001b[0m\u001b[1;33m)\u001b[0m\u001b[1;33m\u001b[0m\u001b[0m\n\u001b[0m\u001b[0;32m      4\u001b[0m \u001b[0mprint\u001b[0m\u001b[1;33m(\u001b[0m\u001b[0mlist\u001b[0m\u001b[1;33m)\u001b[0m\u001b[1;33m\u001b[0m\u001b[0m\n",
            "\u001b[1;31mTypeError\u001b[0m: remove() takes exactly one argument (0 given)"
          ]
        }
      ]
    },
    {
      "cell_type": "code",
      "metadata": {
        "id": "XdqLmEURh4GY",
        "colab_type": "code",
        "colab": {},
        "outputId": "ca99bdf8-8b25-4ea6-819c-40ebe5170d41"
      },
      "source": [
        "print(\"Sada siva:\")"
      ],
      "execution_count": 0,
      "outputs": [
        {
          "output_type": "stream",
          "text": [
            "Sada siva:\n"
          ],
          "name": "stdout"
        }
      ]
    },
    {
      "cell_type": "code",
      "metadata": {
        "id": "BWWyBvrdh4HE",
        "colab_type": "code",
        "colab": {},
        "outputId": "9c32d14c-d5e5-433f-cf89-98b0cee03ba2"
      },
      "source": [
        "Message = 'sadasiva'\n",
        "print(Message)\n",
        "print(Message.upper())\n",
        "print(Message.lower())\n",
        "print(len(Message))\n",
        "print(Message.count(0:7))\n",
        "print(Message.find(sadda))\n",
        "print(Message.replace(sada,rao))\n",
        "Message1 = \"sadasiva\"\n",
        "Message3 = Message + Message1\n",
        "Print(Message3)\n"
      ],
      "execution_count": 0,
      "outputs": [
        {
          "output_type": "error",
          "ename": "SyntaxError",
          "evalue": "invalid syntax (<ipython-input-18-2e8710a150ad>, line 6)",
          "traceback": [
            "\u001b[1;36m  File \u001b[1;32m\"<ipython-input-18-2e8710a150ad>\"\u001b[1;36m, line \u001b[1;32m6\u001b[0m\n\u001b[1;33m    print(Message.count(0:7))\u001b[0m\n\u001b[1;37m                         ^\u001b[0m\n\u001b[1;31mSyntaxError\u001b[0m\u001b[1;31m:\u001b[0m invalid syntax\n"
          ]
        }
      ]
    },
    {
      "cell_type": "code",
      "metadata": {
        "id": "1a0KeEn1h4Ht",
        "colab_type": "code",
        "colab": {},
        "outputId": "35fddb0f-7e45-4957-d50e-ab7b71319333"
      },
      "source": [
        "Message = \"sada siva1\"\n",
        "Message1 = \"sadasiva\"\n",
        "Message3 = Message + ', '+ Message1\n",
        "print (Message3)"
      ],
      "execution_count": 0,
      "outputs": [
        {
          "output_type": "stream",
          "text": [
            "sada siva1, sadasiva\n"
          ],
          "name": "stdout"
        }
      ]
    },
    {
      "cell_type": "code",
      "metadata": {
        "id": "I9r4x5i9h4Ip",
        "colab_type": "code",
        "colab": {},
        "outputId": "7821cc15-c99f-4f00-ed38-25742e2d7d8a"
      },
      "source": [
        "Message = \"sada siva1\"\n",
        "Message1 = \"sadasiva\"\n",
        "print(len.Message(sada))"
      ],
      "execution_count": 0,
      "outputs": [
        {
          "output_type": "error",
          "ename": "AttributeError",
          "evalue": "'builtin_function_or_method' object has no attribute 'Message'",
          "traceback": [
            "\u001b[1;31m---------------------------------------------------------------------------\u001b[0m",
            "\u001b[1;31mAttributeError\u001b[0m                            Traceback (most recent call last)",
            "\u001b[1;32m<ipython-input-26-3a78ab6f3063>\u001b[0m in \u001b[0;36m<module>\u001b[1;34m()\u001b[0m\n\u001b[0;32m      1\u001b[0m \u001b[0mMessage\u001b[0m \u001b[1;33m=\u001b[0m \u001b[1;34m\"sada siva1\"\u001b[0m\u001b[1;33m\u001b[0m\u001b[0m\n\u001b[0;32m      2\u001b[0m \u001b[0mMessage1\u001b[0m \u001b[1;33m=\u001b[0m \u001b[1;34m\"sadasiva\"\u001b[0m\u001b[1;33m\u001b[0m\u001b[0m\n\u001b[1;32m----> 3\u001b[1;33m \u001b[0mprint\u001b[0m\u001b[1;33m(\u001b[0m\u001b[0mlen\u001b[0m\u001b[1;33m.\u001b[0m\u001b[0mMessage\u001b[0m\u001b[1;33m(\u001b[0m\u001b[0msada\u001b[0m\u001b[1;33m)\u001b[0m\u001b[1;33m)\u001b[0m\u001b[1;33m\u001b[0m\u001b[0m\n\u001b[0m",
            "\u001b[1;31mAttributeError\u001b[0m: 'builtin_function_or_method' object has no attribute 'Message'"
          ]
        }
      ]
    },
    {
      "cell_type": "code",
      "metadata": {
        "id": "k9I3-aQ_h4JR",
        "colab_type": "code",
        "colab": {},
        "outputId": "7fd6c6b8-9d9b-4501-ed35-f6772abf4971"
      },
      "source": [
        "a = 3+5\n",
        "b = 9-5\n",
        "c = 2*4\n",
        "d = 10/4\n",
        "e = 3//2\n",
        "t = 3 **2\n",
        "print (a)\n",
        "print (b)\n",
        "print (c)\n",
        "print (d)\n",
        "print (e)\n",
        "print (t)"
      ],
      "execution_count": 0,
      "outputs": [
        {
          "output_type": "stream",
          "text": [
            "8\n",
            "4\n",
            "8\n",
            "2.5\n",
            "1\n",
            "9\n"
          ],
          "name": "stdout"
        }
      ]
    },
    {
      "cell_type": "code",
      "metadata": {
        "id": "4zlQVAFwh4J5",
        "colab_type": "code",
        "colab": {},
        "outputId": "7990bb93-05d3-40d6-850f-48e6ad20ed3b"
      },
      "source": [
        "num = 10.67\n",
        "num1 = 20\n",
        "num1 =  num  \n",
        "print(round(num))"
      ],
      "execution_count": 0,
      "outputs": [
        {
          "output_type": "stream",
          "text": [
            "11\n"
          ],
          "name": "stdout"
        }
      ]
    },
    {
      "cell_type": "code",
      "metadata": {
        "id": "JCLjQI6Kh4Kg",
        "colab_type": "code",
        "colab": {},
        "outputId": "aa304861-530c-4639-af38-9e1b5f4f5db2"
      },
      "source": [
        "num = 15\n",
        "num1 = 20\n",
        "if num <= num1 ;\n",
        "print (num)"
      ],
      "execution_count": 0,
      "outputs": [
        {
          "output_type": "error",
          "ename": "SyntaxError",
          "evalue": "invalid syntax (<ipython-input-49-fa3ae2b5bbbe>, line 3)",
          "traceback": [
            "\u001b[1;36m  File \u001b[1;32m\"<ipython-input-49-fa3ae2b5bbbe>\"\u001b[1;36m, line \u001b[1;32m3\u001b[0m\n\u001b[1;33m    if num <= num1 ;\u001b[0m\n\u001b[1;37m                   ^\u001b[0m\n\u001b[1;31mSyntaxError\u001b[0m\u001b[1;31m:\u001b[0m invalid syntax\n"
          ]
        }
      ]
    },
    {
      "cell_type": "markdown",
      "metadata": {
        "id": "E7MhCj7ih4LH",
        "colab_type": "text"
      },
      "source": [
        "## Print Statement"
      ]
    },
    {
      "cell_type": "code",
      "metadata": {
        "id": "kK8gONZah4LY",
        "colab_type": "code",
        "colab": {}
      },
      "source": [
        "j = 25"
      ],
      "execution_count": 0,
      "outputs": []
    },
    {
      "cell_type": "code",
      "metadata": {
        "id": "QN2HwH9_h4L_",
        "colab_type": "code",
        "colab": {},
        "outputId": "3c32699a-ea83-4fe3-81de-be5712f829bf"
      },
      "source": [
        "j"
      ],
      "execution_count": 0,
      "outputs": [
        {
          "output_type": "execute_result",
          "data": {
            "text/plain": [
              "25"
            ]
          },
          "metadata": {
            "tags": []
          },
          "execution_count": 3
        }
      ]
    },
    {
      "cell_type": "code",
      "metadata": {
        "id": "RHwFTeOjh4Mn",
        "colab_type": "code",
        "colab": {}
      },
      "source": [
        "my_list = [1,2,3,4,5,6]\n",
        "my_tuple = (1,2,3,4,5,6)"
      ],
      "execution_count": 0,
      "outputs": []
    },
    {
      "cell_type": "code",
      "metadata": {
        "id": "M3Fmo1o_h4NO",
        "colab_type": "code",
        "colab": {},
        "outputId": "d6345a3b-47f1-4864-b03c-64396cd383bd"
      },
      "source": [
        "print(my_tuple)\n"
      ],
      "execution_count": 0,
      "outputs": [
        {
          "output_type": "stream",
          "text": [
            "(1, 2, 3, 4, 5, 6)\n"
          ],
          "name": "stdout"
        }
      ]
    }
  ]
}